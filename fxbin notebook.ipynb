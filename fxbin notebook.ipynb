{
 "cells": [
  {
   "cell_type": "markdown",
   "metadata": {
    "collapsed": true
   },
   "source": [
    "read2pairs\n",
    "\n",
    "la fonction readfile lit , pour un mois et une année , deux paires\n",
    "\n",
    "es données doivent venir d'un fichier \n",
    "\n",
    "en fait on lit les donneees sur hisdata.com et on en fait des fichiers de 1minbin\n",
    "\n",
    "readhisdata lit sur hisdata.com les fichiers de bid et ask pour un mois et une annee et une paire\n",
    "\n",
    "\n",
    "on peu deja lire la page web de telechargement (en python 3)\n",
    "avec \n",
    "\n"
   ]
  },
  {
   "cell_type": "code",
   "execution_count": null,
   "metadata": {},
   "outputs": [],
   "source": [
    "from urllib.request import urlopen\n",
    "\n",
    "htmlSource = urlopen(\"http://www.histdata.com/download-free-forex-historical-data/?/ninjatrader/tick-bid-quotes/eurusd/2016/9\")\n",
    "\n",
    "print (htmlSource.read())"
   ]
  },
  {
   "cell_type": "markdown",
   "metadata": {},
   "source": [
    "a noter que urllib de python2 devient urllib.request en python 3"
   ]
  },
  {
   "cell_type": "code",
   "execution_count": null,
   "outputs": [],
   "source": [
    ""
   ]
  }
 ],
 "metadata": {
  "kernelspec": {
   "display_name": "Python 2",
   "language": "python",
   "name": "python2"
  },
  "language_info": {
   "codemirror_mode": {
    "name": "ipython",
    "version": 2.0
   },
   "file_extension": ".py",
   "mimetype": "text/x-python",
   "name": "python",
   "nbconvert_exporter": "python",
   "pygments_lexer": "ipython2",
   "version": "2.7.6"
  }
 },
 "nbformat": 4,
 "nbformat_minor": 0
}