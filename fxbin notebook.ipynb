{
 "cells": [
  {
   "cell_type": "markdown",
   "metadata": {},
   "source": [
    "read2pairs\n",
    "\n",
    "la fonction readfile lit , pour un mois et une année , deux paires\n",
    "\n",
    "es données doivent venir d'un fichier \n",
    "\n",
    "en fait on lit les donneees sur hisdata.com et on en fait des fichiers de 1minbin\n",
    "\n",
    "readhisdata lit sur hisdata.com les fichiers de bid et ask pour un mois et une annee et une paire\n",
    "\n",
    "\n",
    "on peu deja lire la page web de telechargement (en python 3)\n",
    "avec \n",
    "\n"
   ]
  },
  {
   "cell_type": "markdown",
   "metadata": {},
   "source": [
    ""
   ]
  },
  {
   "cell_type": "code",
   "execution_count": null,
   "metadata": {},
   "outputs": [],
   "source": [
    "from urllib.request import urlopen\n",
    "\n",
    "htmlSource = urlopen(\"http://www.histdata.com/download-free-forex-historical-data/?/ninjatrader/tick-bid-quotes/eurusd/2016/9\")\n",
    "\n",
    "print (htmlSource.read())"
   ]
  },
  {
   "cell_type": "markdown",
   "metadata": {},
   "source": [
    "a noter que urllib de python2 devient urllib.request en python 3"
   ]
  },
  {
   "cell_type": "heading",
   "metadata": {},
   "level": 1,
   "source": [
    "en fait, il faut passer par selenium pour cliquer sur un bouton (selenium peut appeler un clic). \n",
    "\n",
    "sinon beautifulsoup permet de bien analyser les code HTML mais pas de cliquer sur qqch -> inutile\n",
    "\n",
    "pour l'instant on va essayer de recuperer pas mal de zip dans un google drive quelque part et travailler avec ca\n"
   ]
  },
  {
   "cell_type": "markdown",
   "metadata": {},
   "source": [
    "avec selenium et chrome ca marche, avec explorer ca pose une question avant de telecherger -> ca ne marche pas\n",
    "\n",
    "en chrome ca marche tres bien, en plus on peut configurer le repertoire de download en passant les options a la construction de chrome\n",
    "\n",
    "\n",
    "\n"
   ]
  },
  {
   "cell_type": "markdown",
   "metadata": {},
   "source": [
    ""
   ]
  },
  {
   "cell_type": "markdown",
   "metadata": {},
   "source": [
    "utilisation de google drive : utiliser pydrive, mais il faut creer un projet dans google API auth 2.0. \n",
    "\n",
    "pour ca, lancer Google API Console, aller dans identifiants et creer un projet, remplir a minima le mail. \n",
    "par exeple, on cree un projet authclient\n",
    "\n",
    "dans la liste des projets, double cliquer sur le projet et on arriv a u ecran contenant les idclient, etc... . On peut meme chanrger un JSON qui contient tout le necessaire pour un acces google drive. \n",
    "\n",
    "a ce moment la, on peut compier le json dans le repertoire du programme python et utiliser l'api pydrv tout simplement :\n",
    "\n",
    "\n",
    "from pydrive.auth import GoogleAuth\n",
    "from pydrive.drive import GoogleDrive\n",
    "\n",
    "gauth = GoogleAuth()\n",
    "gauth.LocalWebserverAuth()\n",
    "\n",
    "drive = GoogleDrive(gauth)\n",
    "\n",
    "et ca marche !!\n",
    "\n",
    "ATTENTION a l'acces il y a utilisationdu port 8080 qui est celui utilise par apache local pour mon wiki\n",
    "\n"
   ]
  },
  {
   "cell_type": "markdown",
   "metadata": {},
   "source": [
    ""
   ]
  },
  {
   "cell_type": "code",
   "execution_count": null,
   "metadata": {},
   "outputs": [],
   "source": [
    "options = webdriver.ChromeOptions()\n",
    "prefs = {\"download.default_directory\" : \"c:/tmp\"}\n",
    "options.add_experimental_option(\"prefs\",prefs)\n",
    "chromedriver = \"c:/windows/system32/chromedriver.exe\"\n",
    "driver = webdriver.Chrome(executable_path=chromedriver, chrome_options=options)"
   ]
  },
  {
   "cell_type": "heading",
   "metadata": {},
   "level": 1,
   "source": [
    "on dirait que mechanize fait l'affaire ?' \n",
    "                              ''"
   ]
  },
  {
   "cell_type": "code",
   "execution_count": null,
   "metadata": {},
   "outputs": [],
   "source": [
    "enregistrer sur google drive"
   ]
  },
  {
   "cell_type": "markdown",
   "metadata": {},
   "source": [
    ""
   ]
  }
 ],
 "metadata": {
  "kernelspec": {
   "display_name": "Python 2",
   "language": "python",
   "name": "python2"
  },
  "language_info": {
   "codemirror_mode": {
    "name": "ipython",
    "version": 2.0
   },
   "file_extension": ".py",
   "mimetype": "text/x-python",
   "name": "python",
   "nbconvert_exporter": "python",
   "pygments_lexer": "ipython2",
   "version": "2.7.6"
  }
 },
 "nbformat": 4,
 "nbformat_minor": 0
}